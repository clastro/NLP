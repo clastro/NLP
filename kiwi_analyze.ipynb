# Kiwi 형태소 분석기 사용하기

#! pip install Kiwi
from kiwipiepy import Kiwi

#이런 데이터프레임이 있다고 할 때!
"""
title	category	label
0	인생을 바꾸고 싶다면 꼭 읽어야 하는 책(feat. 신박사x신사임당)	도서	9
1	마이클 샌델 공정하다는 착각 책 리뷰	도서	9
2	책을 읽어야 하는 ‘진짜’ 이유	도서	9
"""


def text_analysis(text):
    SELECT_POS = ['NNG','NNP','SL','XR','VV','NA','VA','NR','SH','SN'] #해당 품사만
    results = [] 
    for token in kiwi.analyze(text):
        for i in token[0]:
            if i[1] in SELECT_POS:
                if(i[1] == 'VV'):
                    word = i[0] + '다' #동사면 어미 '다'를 붙여줌
                else:
                    word = i[0]
                results.append(word)
    return results
    
kiwi = Kiwi()    
df['text'] = df['title'].apply(lambda x : text_analysis(x))    

#title을 text로 변환하여 반환함
